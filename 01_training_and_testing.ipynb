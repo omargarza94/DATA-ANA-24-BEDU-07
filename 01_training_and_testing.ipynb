{
 "cells": [
  {
   "cell_type": "code",
   "execution_count": 1,
   "id": "b950d39b-4412-4f35-b5df-d4e820eaa9d7",
   "metadata": {},
   "outputs": [
    {
     "name": "stdout",
     "output_type": "stream",
     "text": [
      "Conjunto de entrenamiento: (70, 5): (70,)\n",
      "Conjunto de entrenamiento: (30, 5): (30,)\n"
     ]
    }
   ],
   "source": [
    "from sklearn.model_selection import train_test_split\n",
    "import pandas as pd\n",
    "\n",
    "# Cargar dataset\n",
    "df = pd.read_csv('tmp/Ejemplo_03_04_Dataset_Quimico.csv')\n",
    "\n",
    "df.head()\n",
    "\n",
    "# Definicion de etiquetas\n",
    "X = df.drop('Eficacia_Reaccion', axis=1)\n",
    "y = df['Eficacia_Reaccion']\n",
    "\n",
    "# Division de datos (Entrenamiento: 70% & Prueba: 30%)\n",
    "X_train, X_test, y_train, y_test = train_test_split(X, y, test_size=0.3, random_state=42, stratify=y)\n",
    "\n",
    "# Mostros conjunto de datos\n",
    "print(f'Conjunto de entrenamiento: {X_train.shape}: {y_train.shape}')\n",
    "print(f'Conjunto de entrenamiento: {X_test.shape}: {y_test.shape}')"
   ]
  }
 ],
 "metadata": {
  "kernelspec": {
   "display_name": "Python 3 (ipykernel)",
   "language": "python",
   "name": "python3"
  },
  "language_info": {
   "codemirror_mode": {
    "name": "ipython",
    "version": 3
   },
   "file_extension": ".py",
   "mimetype": "text/x-python",
   "name": "python",
   "nbconvert_exporter": "python",
   "pygments_lexer": "ipython3",
   "version": "3.12.4"
  }
 },
 "nbformat": 4,
 "nbformat_minor": 5
}
