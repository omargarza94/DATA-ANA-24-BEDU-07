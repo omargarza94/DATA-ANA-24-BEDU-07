{
 "cells": [
  {
   "cell_type": "code",
   "execution_count": 3,
   "id": "b950d39b-4412-4f35-b5df-d4e820eaa9d7",
   "metadata": {},
   "outputs": [
    {
     "name": "stdout",
     "output_type": "stream",
     "text": [
      "Precision: 0.50\n",
      "recall: 0.58\n",
      "f1: 0.54\n"
     ]
    }
   ],
   "source": [
    "import pandas as pd\n",
    "from sklearn.model_selection import train_test_split\n",
    "from sklearn.tree import DecisionTreeClassifier\n",
    "from sklearn.metrics import precision_score, recall_score, f1_score\n",
    "\n",
    "# Cargar dataset\n",
    "df = pd.read_csv('tmp/Ejemplo_03_04_Dataset_Quimico.csv')\n",
    "\n",
    "df.head()\n",
    "\n",
    "# Definicion de etiquetas\n",
    "X = df.drop('Eficacia_Reaccion', axis=1)\n",
    "y = df['Eficacia_Reaccion']\n",
    "\n",
    "# Division de datos (Entrenamiento: 70% & Prueba: 30%)\n",
    "X_train, X_test, y_train, y_test = train_test_split(X, y, test_size=0.3, random_state=42, stratify=y)\n",
    "\n",
    "# Crear y entrenar un modelo\n",
    "model = DecisionTreeClassifier(random_state=42)\n",
    "model.fit(X_train, y_train)\n",
    "\n",
    "# Predicciones\n",
    "y_pred = model.predict(X_test)\n",
    "\n",
    "# Evaluar: calcular metricas\n",
    "precision = precision_score(y_test, y_pred) # Precision del modelo\n",
    "recall = recall_score(y_test, y_pred) # balanceo\n",
    "f1 = f1_score(y_test, y_pred) # Confiabilidad\n",
    "\n",
    "# Mostrar resultados\n",
    "print(f'Precision: {precision:.2f}')\n",
    "print(f'recall: {recall:.2f}')\n",
    "print(f'f1: {f1:.2f}')"
   ]
  },
  {
   "cell_type": "code",
   "execution_count": null,
   "id": "cc21e262-a988-4acf-97cd-71fe3a57594c",
   "metadata": {},
   "outputs": [],
   "source": []
  }
 ],
 "metadata": {
  "kernelspec": {
   "display_name": "Python 3 (ipykernel)",
   "language": "python",
   "name": "python3"
  },
  "language_info": {
   "codemirror_mode": {
    "name": "ipython",
    "version": 3
   },
   "file_extension": ".py",
   "mimetype": "text/x-python",
   "name": "python",
   "nbconvert_exporter": "python",
   "pygments_lexer": "ipython3",
   "version": "3.12.4"
  }
 },
 "nbformat": 4,
 "nbformat_minor": 5
}
